{
 "cells": [
  {
   "cell_type": "markdown",
   "metadata": {},
   "source": [
    "------------- CHALLENGE 1 --------------------------"
   ]
  },
  {
   "cell_type": "code",
   "execution_count": null,
   "metadata": {},
   "outputs": [],
   "source": [
    "# https://github.com/eye8/madrid-oct-2018\n",
    "\n",
    "import pandas as pd\n",
    "import requests"
   ]
  },
  {
   "cell_type": "code",
   "execution_count": null,
   "metadata": {},
   "outputs": [],
   "source": [
    "url = 'https://api.github.com/repos/ironhack-datalabs/mad-oct-2018/forks'\n",
    "response = requests.get(url)\n",
    "response.status_code"
   ]
  },
  {
   "cell_type": "code",
   "execution_count": null,
   "metadata": {},
   "outputs": [],
   "source": [
    "response.json()\n",
    "events = pd.DataFrame(response.json())\n",
    "events.head(3)\n",
    "#a = pd.json_normalize(response.json())"
   ]
  },
  {
   "cell_type": "code",
   "execution_count": null,
   "metadata": {},
   "outputs": [],
   "source": [
    "#NEED TO GET THE LANGUAGE COLUMN\n",
    "list_of_columns= ['language']\n",
    "flatten(events,list_of_columns)"
   ]
  },
  {
   "cell_type": "code",
   "execution_count": null,
   "metadata": {},
   "outputs": [],
   "source": [
    "array = events['language'].unique()"
   ]
  },
  {
   "cell_type": "markdown",
   "metadata": {},
   "source": [
    "--------------------------------------------- CHALLENGE 2----------------------------------------------------"
   ]
  },
  {
   "cell_type": "code",
   "execution_count": null,
   "metadata": {},
   "outputs": [],
   "source": [
    "url2 = 'https://api.github.com/repos/DanielCarvalho93/lab-list-comprehensions/commits'\n",
    "response = requests.get(url2)\n",
    "response.status_code"
   ]
  },
  {
   "cell_type": "code",
   "execution_count": 59,
   "metadata": {},
   "outputs": [
    {
     "data": {
      "text/html": [
       "<div>\n",
       "<style scoped>\n",
       "    .dataframe tbody tr th:only-of-type {\n",
       "        vertical-align: middle;\n",
       "    }\n",
       "\n",
       "    .dataframe tbody tr th {\n",
       "        vertical-align: top;\n",
       "    }\n",
       "\n",
       "    .dataframe thead th {\n",
       "        text-align: right;\n",
       "    }\n",
       "</style>\n",
       "<table border=\"1\" class=\"dataframe\">\n",
       "  <thead>\n",
       "    <tr style=\"text-align: right;\">\n",
       "      <th></th>\n",
       "      <th>sha</th>\n",
       "      <th>node_id</th>\n",
       "      <th>commit</th>\n",
       "      <th>url</th>\n",
       "      <th>html_url</th>\n",
       "      <th>comments_url</th>\n",
       "      <th>author</th>\n",
       "      <th>committer</th>\n",
       "      <th>parents</th>\n",
       "    </tr>\n",
       "  </thead>\n",
       "  <tbody>\n",
       "    <tr>\n",
       "      <th>0</th>\n",
       "      <td>65e2efdd07986a452ca01ab3ff4746b7ad626208</td>\n",
       "      <td>C_kwDOHmy1iNoAKDY1ZTJlZmRkMDc5ODZhNDUyY2EwMWFi...</td>\n",
       "      <td>{'author': {'name': 'DanielCarvalho93', 'email...</td>\n",
       "      <td>https://api.github.com/repos/DanielCarvalho93/...</td>\n",
       "      <td>https://github.com/DanielCarvalho93/lab-list-c...</td>\n",
       "      <td>https://api.github.com/repos/DanielCarvalho93/...</td>\n",
       "      <td>None</td>\n",
       "      <td>None</td>\n",
       "      <td>[{'sha': '5ef0679bae8cc7c3f5f8f67f155dde70c2fa...</td>\n",
       "    </tr>\n",
       "    <tr>\n",
       "      <th>1</th>\n",
       "      <td>5ef0679bae8cc7c3f5f8f67f155dde70c2facef6</td>\n",
       "      <td>C_kwDOHmy1iNoAKDVlZjA2NzliYWU4Y2M3YzNmNWY4ZjY3...</td>\n",
       "      <td>{'author': {'name': 'DanielCarvalho93', 'email...</td>\n",
       "      <td>https://api.github.com/repos/DanielCarvalho93/...</td>\n",
       "      <td>https://github.com/DanielCarvalho93/lab-list-c...</td>\n",
       "      <td>https://api.github.com/repos/DanielCarvalho93/...</td>\n",
       "      <td>None</td>\n",
       "      <td>None</td>\n",
       "      <td>[{'sha': '8949a53afaeae22f5ce7eba669b73c4479c9...</td>\n",
       "    </tr>\n",
       "    <tr>\n",
       "      <th>2</th>\n",
       "      <td>8949a53afaeae22f5ce7eba669b73c4479c93542</td>\n",
       "      <td>MDY6Q29tbWl0NTEwNDQwODQwOjg5NDlhNTNhZmFlYWUyMm...</td>\n",
       "      <td>{'author': {'name': 'carlosmd14', 'email': 'ca...</td>\n",
       "      <td>https://api.github.com/repos/DanielCarvalho93/...</td>\n",
       "      <td>https://github.com/DanielCarvalho93/lab-list-c...</td>\n",
       "      <td>https://api.github.com/repos/DanielCarvalho93/...</td>\n",
       "      <td>{'login': 'Madrizing', 'id': 45972288, 'node_i...</td>\n",
       "      <td>{'login': 'Madrizing', 'id': 45972288, 'node_i...</td>\n",
       "      <td>[{'sha': '5621b3256668f9a15172d79124be70933fab...</td>\n",
       "    </tr>\n",
       "  </tbody>\n",
       "</table>\n",
       "</div>"
      ],
      "text/plain": [
       "                                        sha  \\\n",
       "0  65e2efdd07986a452ca01ab3ff4746b7ad626208   \n",
       "1  5ef0679bae8cc7c3f5f8f67f155dde70c2facef6   \n",
       "2  8949a53afaeae22f5ce7eba669b73c4479c93542   \n",
       "\n",
       "                                             node_id  \\\n",
       "0  C_kwDOHmy1iNoAKDY1ZTJlZmRkMDc5ODZhNDUyY2EwMWFi...   \n",
       "1  C_kwDOHmy1iNoAKDVlZjA2NzliYWU4Y2M3YzNmNWY4ZjY3...   \n",
       "2  MDY6Q29tbWl0NTEwNDQwODQwOjg5NDlhNTNhZmFlYWUyMm...   \n",
       "\n",
       "                                              commit  \\\n",
       "0  {'author': {'name': 'DanielCarvalho93', 'email...   \n",
       "1  {'author': {'name': 'DanielCarvalho93', 'email...   \n",
       "2  {'author': {'name': 'carlosmd14', 'email': 'ca...   \n",
       "\n",
       "                                                 url  \\\n",
       "0  https://api.github.com/repos/DanielCarvalho93/...   \n",
       "1  https://api.github.com/repos/DanielCarvalho93/...   \n",
       "2  https://api.github.com/repos/DanielCarvalho93/...   \n",
       "\n",
       "                                            html_url  \\\n",
       "0  https://github.com/DanielCarvalho93/lab-list-c...   \n",
       "1  https://github.com/DanielCarvalho93/lab-list-c...   \n",
       "2  https://github.com/DanielCarvalho93/lab-list-c...   \n",
       "\n",
       "                                        comments_url  \\\n",
       "0  https://api.github.com/repos/DanielCarvalho93/...   \n",
       "1  https://api.github.com/repos/DanielCarvalho93/...   \n",
       "2  https://api.github.com/repos/DanielCarvalho93/...   \n",
       "\n",
       "                                              author  \\\n",
       "0                                               None   \n",
       "1                                               None   \n",
       "2  {'login': 'Madrizing', 'id': 45972288, 'node_i...   \n",
       "\n",
       "                                           committer  \\\n",
       "0                                               None   \n",
       "1                                               None   \n",
       "2  {'login': 'Madrizing', 'id': 45972288, 'node_i...   \n",
       "\n",
       "                                             parents  \n",
       "0  [{'sha': '5ef0679bae8cc7c3f5f8f67f155dde70c2fa...  \n",
       "1  [{'sha': '8949a53afaeae22f5ce7eba669b73c4479c9...  \n",
       "2  [{'sha': '5621b3256668f9a15172d79124be70933fab...  "
      ]
     },
     "execution_count": 59,
     "metadata": {},
     "output_type": "execute_result"
    }
   ],
   "source": [
    "response.json()\n",
    "events = pd.DataFrame(response.json())\n",
    "events.head(3)"
   ]
  },
  {
   "cell_type": "code",
   "execution_count": 66,
   "metadata": {},
   "outputs": [
    {
     "data": {
      "text/plain": [
       "5"
      ]
     },
     "execution_count": 66,
     "metadata": {},
     "output_type": "execute_result"
    }
   ],
   "source": [
    "def flatten_column(data, column):\n",
    "    return pd.DataFrame(dict(data[column])).T\n",
    "\n",
    "a = flatten_column(events,'commit')\n",
    "a['message'].count()"
   ]
  }
 ],
 "metadata": {
  "kernelspec": {
   "display_name": "Python 3.9.13 ('Classes')",
   "language": "python",
   "name": "python3"
  },
  "language_info": {
   "codemirror_mode": {
    "name": "ipython",
    "version": 3
   },
   "file_extension": ".py",
   "mimetype": "text/x-python",
   "name": "python",
   "nbconvert_exporter": "python",
   "pygments_lexer": "ipython3",
   "version": "3.9.13"
  },
  "orig_nbformat": 4,
  "vscode": {
   "interpreter": {
    "hash": "b56b83a77b69817771c5ed78805d5acb0dbb6e361a4327e0e70027e0f158efcf"
   }
  }
 },
 "nbformat": 4,
 "nbformat_minor": 2
}
